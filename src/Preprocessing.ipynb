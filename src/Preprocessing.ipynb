{
 "cells": [
  {
   "cell_type": "code",
   "execution_count": 1,
   "id": "820908d7",
   "metadata": {},
   "outputs": [],
   "source": [
    "import pandas as pd\n",
    "from sklearn.model_selection import TimeSeriesSplit\n",
    "from sklearn.compose import ColumnTransformer\n",
    "from sklearn.pipeline import Pipeline\n",
    "from sklearn.preprocessing import StandardScaler, OneHotEncoder, OrdinalEncoder\n",
    "from sklearn.impute import SimpleImputer\n",
    "df = pd.read_csv(\"/Users/erningxu/Desktop/data assignment/Final_Report/data/data_after_EDA.csv\")\n",
    "df = df.sort_values(by='date')\n",
    "df['date'] = pd.to_datetime(df['date'])\n",
    "df['year'] = df['date'].dt.year\n",
    "df['month'] = df['date'].dt.month\n",
    "df['day_of_month'] = df['date'].dt.day\n",
    "df['week_of_year'] = df['date'].dt.isocalendar().week\n",
    "df['is_weekend'] = df['date'].dt.dayofweek.isin([5, 6]).astype(int)"
   ]
  },
  {
   "cell_type": "code",
   "execution_count": 2,
   "id": "63b8f8a8",
   "metadata": {},
   "outputs": [
    {
     "name": "stdout",
     "output_type": "stream",
     "text": [
      "Training set date range: (Timestamp('2015-01-01 00:00:00'), Timestamp('2015-01-18 00:00:00'))\n",
      "Validation set date range: (Timestamp('2015-02-04 00:00:00'), Timestamp('2015-02-23 00:00:00'))\n",
      "Test set date range: (Timestamp('2015-02-23 00:00:00'), Timestamp('2015-03-11 00:00:00'))\n"
     ]
    }
   ],
   "source": [
    "X = df.drop(columns=['actual_productivity'])\n",
    "y = df['actual_productivity']\n",
    "imputer = SimpleImputer(strategy=\"median\")\n",
    "X['wip'] = imputer.fit_transform(X[['wip']])\n",
    "tscv = TimeSeriesSplit(n_splits=3)\n",
    "splits = list(tscv.split(X, y))\n",
    "train_index = splits[0][0]  \n",
    "val_index = splits[1][1]    \n",
    "test_index = splits[2][1]\n",
    "X_train = X.iloc[train_index]\n",
    "y_train = y.iloc[train_index]\n",
    "X_val = X.iloc[val_index]\n",
    "y_val = y.iloc[val_index]\n",
    "X_test = X.iloc[test_index]\n",
    "y_test = y.iloc[test_index]\n",
    "train_date_range = (df.iloc[train_index]['date'].min(), df.iloc[train_index]['date'].max())\n",
    "val_date_range = (df.iloc[val_index]['date'].min(), df.iloc[val_index]['date'].max())\n",
    "test_date_range = (df.iloc[test_index]['date'].min(), df.iloc[test_index]['date'].max())\n",
    "print(\"Training set date range:\", train_date_range)\n",
    "print(\"Validation set date range:\", val_date_range)\n",
    "print(\"Test set date range:\", test_date_range)\n",
    "\n"
   ]
  },
  {
   "cell_type": "code",
   "execution_count": 3,
   "id": "d96aad9a",
   "metadata": {},
   "outputs": [
    {
     "name": "stdout",
     "output_type": "stream",
     "text": [
      "Original training shape: (300, 18)\n",
      "Transformed training shape: (300, 30)\n",
      "Sample transformed training data:\n",
      " [[ 0.          1.          0.          0.          0.          0.\n",
      "   0.          0.          0.          1.          0.          0.\n",
      "   0.          0.          3.          0.          0.47108153  1.01503979\n",
      "   0.63397946  0.37210131  2.57881198  0.          0.          0.\n",
      "   1.11789555 -1.7399449  -1.57461534  0.          0.          0.        ]\n",
      " [ 1.          0.          0.          0.          0.          0.\n",
      "   0.          0.          0.          0.          0.          0.\n",
      "   1.          0.          3.          0.         -0.57576631 -0.92543078\n",
      "   0.25872569 -1.04408831 -0.95380717  0.          0.          0.\n",
      "  -0.95160189 -1.7399449  -1.57461534  0.          0.          0.        ]\n",
      " [ 0.          1.          0.          0.          0.          1.\n",
      "   0.          0.          0.          0.          0.          0.\n",
      "   0.          0.          3.          0.         -1.09919024  0.79727685\n",
      "  -0.70932026  0.40223301 -0.95380717  0.          0.          0.\n",
      "   1.16192741 -1.7399449  -1.57461534  0.          0.          0.        ]\n",
      " [ 1.          0.          0.          0.          0.          0.\n",
      "   0.          0.          1.          0.          0.          0.\n",
      "   0.          0.          3.          0.          0.47108153 -1.0356347\n",
      "   0.25872569 -1.16461509 -0.95380717  0.          0.          0.\n",
      "  -1.12772933 -1.7399449  -1.57461534  0.          0.          0.        ]\n",
      " [ 1.          0.          0.          0.          0.          1.\n",
      "   0.          0.          0.          0.          0.          0.\n",
      "   0.          0.          3.          0.         -0.05234239 -0.94394504\n",
      "   0.25872569 -0.86329815 -0.95380717  0.          0.          0.\n",
      "  -0.68741073 -1.7399449  -1.57461534  0.          0.          0.        ]]\n"
     ]
    }
   ],
   "source": [
    "X_train = X_train.drop(columns=['date'])\n",
    "X_val = X_val.drop(columns=['date'])\n",
    "X_test = X_test.drop(columns=['date'])\n",
    "onehot_ftrs = ['department', 'team']\n",
    "ordinal_ftrs = ['day', 'quarter']\n",
    "std_ftrs = ['targeted_productivity', 'smv', 'wip', 'over_time', 'incentive',\n",
    "            'idle_time', 'idle_men', 'no_of_style_change', 'no_of_workers',\n",
    "            'day_of_month', 'week_of_year', 'year', 'month']\n",
    "\n",
    "ordinal_encoder = OrdinalEncoder(categories=[\n",
    "    ['Monday', 'Tuesday', 'Wednesday', 'Thursday', 'Friday', 'Saturday', 'Sunday'],\n",
    "    ['Quarter1', 'Quarter2', 'Quarter3', 'Quarter4']\n",
    "])\n",
    "\n",
    "preprocessor = ColumnTransformer(\n",
    "    transformers=[\n",
    "        ('onehot', OneHotEncoder(sparse_output=False), onehot_ftrs),\n",
    "        ('ordinal', ordinal_encoder, ordinal_ftrs),\n",
    "        ('std', StandardScaler(), std_ftrs)\n",
    "    ],\n",
    "    remainder='passthrough'\n",
    ")\n",
    "\n",
    "clf = Pipeline(steps=[('preprocessor', preprocessor)])\n",
    "\n",
    "X_train_prep = clf.fit_transform(X_train)\n",
    "X_val_prep = clf.transform(X_val)\n",
    "X_test_prep = clf.transform(X_test)\n",
    "\n",
    "print(\"Original training shape:\", X_train.shape)\n",
    "print(\"Transformed training shape:\", X_train_prep.shape)\n",
    "print(\"Sample transformed training data:\\n\", X_train_prep[:5])"
   ]
  }
 ],
 "metadata": {
  "kernelspec": {
   "display_name": "Python 3 (ipykernel)",
   "language": "python",
   "name": "python3"
  },
  "language_info": {
   "codemirror_mode": {
    "name": "ipython",
    "version": 3
   },
   "file_extension": ".py",
   "mimetype": "text/x-python",
   "name": "python",
   "nbconvert_exporter": "python",
   "pygments_lexer": "ipython3",
   "version": "3.12.5"
  }
 },
 "nbformat": 4,
 "nbformat_minor": 5
}
